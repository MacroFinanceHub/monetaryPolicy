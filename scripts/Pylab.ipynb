{
 "cells": [
  {
   "cell_type": "markdown",
   "metadata": {},
   "source": [
    "# Python helper file/script for MATLAB"
   ]
  },
  {
   "cell_type": "markdown",
   "metadata": {},
   "source": [
    "This cell sets up the notebook to import numpy, datascience, seaborn, pandas, matplotlib etc."
   ]
  },
  {
   "cell_type": "code",
   "execution_count": 48,
   "metadata": {},
   "outputs": [],
   "source": [
    "# Run this cell to set up the notebook.\n",
    "\n",
    "# These lines import the Numpy, Datascience, pandas modules.\n",
    "import numpy as np\n",
    "import pandas as pd\n",
    "import seaborn as sns\n",
    "from datascience import *\n",
    "import random\n",
    "import matplotlib\n",
    "import matplotlib.pyplot as plt\n",
    "\n",
    "# Importing plotting libraries and styles\n",
    "%matplotlib inline\n",
    "plt.style.use('fivethirtyeight')\n",
    "\n",
    "# For Pandas to ignore FutureWarning displays\n",
    "import warnings\n",
    "warnings.simplefilter('ignore', FutureWarning)"
   ]
  },
  {
   "cell_type": "markdown",
   "metadata": {},
   "source": [
    "### The cell given below sets up MATLAB for the notebook\n",
    "Source: https://sehyoun.com/blog/20180904_using-matlab-with-jupyter-notebook.html"
   ]
  },
  {
   "cell_type": "code",
   "execution_count": 49,
   "metadata": {},
   "outputs": [
    {
     "name": "stderr",
     "output_type": "stream",
     "text": [
      "Exception ignored in: <bound method MatlabEngine.__del__ of <matlab.engine.matlabengine.MatlabEngine object at 0x1a1deeb358>>\n",
      "Traceback (most recent call last):\n",
      "  File \"/anaconda3/lib/python3.6/site-packages/matlab/engine/matlabengine.py\", line 250, in __del__\n",
      "    self.exit()\n",
      "  File \"/anaconda3/lib/python3.6/site-packages/matlab/engine/matlabengine.py\", line 232, in exit\n",
      "    pythonengine.closeMATLAB(self.__dict__[\"_matlab\"])\n",
      "SystemError: MATLAB process cannot be terminated.\n"
     ]
    }
   ],
   "source": [
    "import matlab.engine\n",
    "import io\n",
    "import scipy.io\n",
    "from IPython.core.magic import register_cell_magic\n",
    "ip = get_ipython()\n",
    "\n",
    "out = io.StringIO()\n",
    "err = io.StringIO()\n",
    "\n",
    "# Setup matlab cell magic #\n",
    "@register_cell_magic\n",
    "def matlab_magic(line,cell):\n",
    "    out.truncate(0)\n",
    "    out.seek(0)\n",
    "    err.truncate(0)\n",
    "    err.truncate(0)\n",
    "    raw = '''{line}.eval(\"\"\"{cell}\"\"\", nargout=0, stdout=out, stderr=err)'''\n",
    "    ip.run_cell(raw.format(line=line, cell=cell))\n",
    "    print(out.getvalue())\n",
    "    print(err.getvalue())\n",
    "    \n",
    "# Starting a MATLAB engine called eng\n",
    "eng = matlab.engine.start_matlab()"
   ]
  },
  {
   "cell_type": "code",
   "execution_count": 50,
   "metadata": {},
   "outputs": [
    {
     "name": "stdout",
     "output_type": "stream",
     "text": [
      "\n",
      "\n"
     ]
    }
   ],
   "source": [
    "%%matlab_magic eng\n",
    "\n",
    "t = linspace(0,6*pi,100);\n",
    "plot(sin(t))\n",
    "grid on\n",
    "hold on\n",
    "plot(cos(t), 'r')"
   ]
  },
  {
   "cell_type": "code",
   "execution_count": 51,
   "metadata": {},
   "outputs": [
    {
     "name": "stdout",
     "output_type": "stream",
     "text": [
      "     5\n",
      "\n",
      "\n",
      "x =\n",
      "\n",
      "     5\n",
      "\n",
      "\n",
      "\n"
     ]
    }
   ],
   "source": [
    "%%matlab_magic eng\n",
    "\n",
    "x = 5;\n",
    "disp(x);\n",
    "x"
   ]
  },
  {
   "cell_type": "markdown",
   "metadata": {},
   "source": [
    "Calling another MATLAB file from Python script"
   ]
  },
  {
   "cell_type": "code",
   "execution_count": 60,
   "metadata": {},
   "outputs": [],
   "source": [
    "# Adds the MMB.m folder to the MATLAB engine path\n",
    "eng.addpath(r\"/Users/Desktop/monetaryPolicy/mmb-gui-mlab/2.3.2\", nargout=0)\n",
    "eng.addpath(r\"/Users/Desktop/monetaryPolicy/mmb-gui-mlab/2.3.2/MMB_OPTIONS\", nargout=0)"
   ]
  },
  {
   "cell_type": "code",
   "execution_count": 59,
   "metadata": {},
   "outputs": [],
   "source": [
    "eng.MMB(nargout=0)"
   ]
  },
  {
   "cell_type": "code",
   "execution_count": 54,
   "metadata": {},
   "outputs": [
    {
     "name": "stdout",
     "output_type": "stream",
     "text": [
      "\n",
      "my_array =\n",
      "\n",
      "    10    20    30    40    50\n",
      "\n",
      "\n",
      "avgOfThis =\n",
      "\n",
      "    30\n",
      "\n",
      "\n",
      "\n"
     ]
    }
   ],
   "source": [
    "%%matlab_magic eng\n",
    "\n",
    "my_array = [10, 20, 30, 40, 50]\n",
    "avgOfThis = averageFunc(my_array)"
   ]
  },
  {
   "cell_type": "markdown",
   "metadata": {},
   "source": [
    "**Python to MATLAB**\n",
    "\n",
    "Source: https://stackoverflow.com/questions/10997254/converting-numpy-arrays-to-matlab-and-vice-versa"
   ]
  },
  {
   "cell_type": "code",
   "execution_count": 6,
   "metadata": {},
   "outputs": [],
   "source": [
    "x = [1,2,3]\n",
    "y = \"hello\"\n",
    "z = [[1,2,3], [4,5,6]]\n",
    "\n",
    "scipy.io.savemat('test.mat', dict(x=x, y=y, z=z))"
   ]
  },
  {
   "cell_type": "code",
   "execution_count": 7,
   "metadata": {},
   "outputs": [
    {
     "name": "stdout",
     "output_type": "stream",
     "text": [
      "\n",
      "x =\n",
      "\n",
      "  1x3 int64 row vector\n",
      "\n",
      "   1   2   3\n",
      "\n",
      "\n",
      "y =\n",
      "\n",
      "    'hello'\n",
      "\n",
      "\n",
      "z =\n",
      "\n",
      "  2x3 int64 matrix\n",
      "\n",
      "   1   2   3\n",
      "   4   5   6\n",
      "\n",
      "\n",
      "\n"
     ]
    }
   ],
   "source": [
    "%%matlab_magic eng\n",
    "load test\n",
    "x\n",
    "y\n",
    "z"
   ]
  },
  {
   "cell_type": "markdown",
   "metadata": {},
   "source": [
    "**MATLAB to Python**\n",
    "\n",
    "Source: http://www.blogforbrains.com/blog/2014/9/6/loading-matlab-mat-data-in-python"
   ]
  },
  {
   "cell_type": "code",
   "execution_count": 8,
   "metadata": {},
   "outputs": [
    {
     "data": {
      "text/plain": [
       "{'__header__': b'MATLAB 5.0 MAT-file, Platform: MACI64, Created on: Fri Feb  8 01:20:47 2019',\n",
       " '__version__': '1.0',\n",
       " '__globals__': [],\n",
       " 'a': array([[1, 2, 3],\n",
       "        [4, 5, 6]], dtype=uint8),\n",
       " 'S': array((array([[ 7,  8,  9],\n",
       "        [10, 11, 12]], dtype=uint8),), dtype=[('b', 'O')]),\n",
       " 'M': array([(array([[ 2,  4,  6],\n",
       "        [ 8, 10, 12]], dtype=uint8),),\n",
       "        (array([[ 1,  3,  5],\n",
       "        [ 7,  9, 11]], dtype=uint8),)], dtype=[('c', 'O')])}"
      ]
     },
     "execution_count": 8,
     "metadata": {},
     "output_type": "execute_result"
    }
   ],
   "source": [
    "# Similarly we have\n",
    "#scipy.io.loadmat(\"averageFunc.m\")\n",
    "variables = scipy.io.loadmat('data.mat', squeeze_me=True)\n",
    "variables"
   ]
  },
  {
   "cell_type": "code",
   "execution_count": 11,
   "metadata": {},
   "outputs": [
    {
     "data": {
      "text/plain": [
       "array([[1, 2, 3],\n",
       "       [4, 5, 6]], dtype=uint8)"
      ]
     },
     "execution_count": 11,
     "metadata": {},
     "output_type": "execute_result"
    }
   ],
   "source": [
    "a = variables['a'] # array\n",
    "S = variables['S'] # structure containing an array\n",
    "M = variables['M'] # array of structures\n",
    "\n",
    "a"
   ]
  },
  {
   "cell_type": "code",
   "execution_count": 12,
   "metadata": {},
   "outputs": [
    {
     "data": {
      "text/plain": [
       "array((array([[ 7,  8,  9],\n",
       "       [10, 11, 12]], dtype=uint8),), dtype=[('b', 'O')])"
      ]
     },
     "execution_count": 12,
     "metadata": {},
     "output_type": "execute_result"
    }
   ],
   "source": [
    "S"
   ]
  },
  {
   "cell_type": "code",
   "execution_count": 13,
   "metadata": {},
   "outputs": [
    {
     "data": {
      "text/plain": [
       "array([(array([[ 2,  4,  6],\n",
       "       [ 8, 10, 12]], dtype=uint8),),\n",
       "       (array([[ 1,  3,  5],\n",
       "       [ 7,  9, 11]], dtype=uint8),)], dtype=[('c', 'O')])"
      ]
     },
     "execution_count": 13,
     "metadata": {},
     "output_type": "execute_result"
    }
   ],
   "source": [
    "M"
   ]
  },
  {
   "cell_type": "code",
   "execution_count": null,
   "metadata": {},
   "outputs": [],
   "source": []
  }
 ],
 "metadata": {
  "kernelspec": {
   "display_name": "Python 3",
   "language": "python",
   "name": "python3"
  },
  "language_info": {
   "codemirror_mode": {
    "name": "ipython",
    "version": 3
   },
   "file_extension": ".py",
   "mimetype": "text/x-python",
   "name": "python",
   "nbconvert_exporter": "python",
   "pygments_lexer": "ipython3",
   "version": "3.6.4"
  }
 },
 "nbformat": 4,
 "nbformat_minor": 2
}
