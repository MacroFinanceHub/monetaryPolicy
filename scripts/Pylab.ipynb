{
 "cells": [
  {
   "cell_type": "markdown",
   "metadata": {},
   "source": [
    "# Python helper file/script for MATLAB"
   ]
  },
  {
   "cell_type": "markdown",
   "metadata": {},
   "source": [
    "This cell sets up the notebook to import numpy, datascience, seaborn, pandas, matplotlib etc."
   ]
  },
  {
   "cell_type": "code",
   "execution_count": 20,
   "metadata": {},
   "outputs": [],
   "source": [
    "# Run this cell to set up the notebook.\n",
    "\n",
    "# These lines import the Numpy, Datascience, pandas modules.\n",
    "import numpy as np\n",
    "import pandas as pd\n",
    "import seaborn as sns\n",
    "from datascience import *\n",
    "import random\n",
    "import matplotlib\n",
    "import matplotlib.pyplot as plt\n",
    "\n",
    "# Importing plotting libraries and styles\n",
    "%matplotlib inline\n",
    "plt.style.use('fivethirtyeight')\n",
    "\n",
    "# For Pandas to ignore FutureWarning displays\n",
    "import warnings\n",
    "warnings.simplefilter('ignore', FutureWarning)"
   ]
  },
  {
   "cell_type": "markdown",
   "metadata": {},
   "source": [
    "### The cell given below sets up MATLAB for the notebook\n",
    "Source: https://sehyoun.com/blog/20180904_using-matlab-with-jupyter-notebook.html"
   ]
  },
  {
   "cell_type": "code",
   "execution_count": 21,
   "metadata": {},
   "outputs": [],
   "source": [
    "import matlab.engine\n",
    "import io\n",
    "import scipy.io\n",
    "from IPython.core.magic import register_cell_magic\n",
    "ip = get_ipython()\n",
    "\n",
    "out = io.StringIO()\n",
    "err = io.StringIO()\n",
    "\n",
    "# Setup matlab cell magic #\n",
    "@register_cell_magic\n",
    "def matlab_magic(line,cell):\n",
    "    out.truncate(0)\n",
    "    out.seek(0)\n",
    "    err.truncate(0)\n",
    "    err.truncate(0)\n",
    "    raw = '''{line}.eval(\"\"\"{cell}\"\"\", nargout=0, stdout=out, stderr=err)'''\n",
    "    ip.run_cell(raw.format(line=line, cell=cell))\n",
    "    print(out.getvalue())\n",
    "    print(err.getvalue())\n",
    "    \n",
    "# Starting a MATLAB engine called eng\n",
    "eng = matlab.engine.start_matlab()"
   ]
  },
  {
   "cell_type": "code",
   "execution_count": 22,
   "metadata": {},
   "outputs": [
    {
     "name": "stdout",
     "output_type": "stream",
     "text": [
      "\n",
      "\n"
     ]
    }
   ],
   "source": [
    "%%matlab_magic eng\n",
    "\n",
    "t = linspace(0,6*pi,100);\n",
    "plot(sin(t))\n",
    "grid on\n",
    "hold on\n",
    "plot(cos(t), 'r')"
   ]
  },
  {
   "cell_type": "code",
   "execution_count": 23,
   "metadata": {},
   "outputs": [
    {
     "name": "stdout",
     "output_type": "stream",
     "text": [
      "     5\n",
      "\n",
      "\n",
      "x =\n",
      "\n",
      "     5\n",
      "\n",
      "\n",
      "\n"
     ]
    }
   ],
   "source": [
    "%%matlab_magic eng\n",
    "\n",
    "x = 5;\n",
    "disp(x);\n",
    "x"
   ]
  },
  {
   "cell_type": "markdown",
   "metadata": {},
   "source": [
    "Calling another MATLAB file from Python script"
   ]
  },
  {
   "cell_type": "code",
   "execution_count": 24,
   "metadata": {},
   "outputs": [
    {
     "name": "stdout",
     "output_type": "stream",
     "text": [
      "\n",
      "my_array =\n",
      "\n",
      "    10    20    30    40    50\n",
      "\n",
      "\n",
      "avgOfThis =\n",
      "\n",
      "    30\n",
      "\n",
      "\n",
      "\n"
     ]
    }
   ],
   "source": [
    "%%matlab_magic eng\n",
    "\n",
    "my_array = [10, 20, 30, 40, 50]\n",
    "avgOfThis = averageFunc(my_array)"
   ]
  },
  {
   "cell_type": "markdown",
   "metadata": {},
   "source": [
    "**Python to MATLAB**\n",
    "\n",
    "Source: https://stackoverflow.com/questions/10997254/converting-numpy-arrays-to-matlab-and-vice-versa"
   ]
  },
  {
   "cell_type": "code",
   "execution_count": 25,
   "metadata": {},
   "outputs": [],
   "source": [
    "x = [1,2,3]\n",
    "y = \"hello\"\n",
    "z = [[1,2,3], [4,5,6]]\n",
    "\n",
    "scipy.io.savemat('test.mat', dict(x=x, y=y, z=z))"
   ]
  },
  {
   "cell_type": "code",
   "execution_count": 26,
   "metadata": {},
   "outputs": [
    {
     "name": "stdout",
     "output_type": "stream",
     "text": [
      "\n",
      "x =\n",
      "\n",
      "  1x3 int64 row vector\n",
      "\n",
      "   1   2   3\n",
      "\n",
      "\n",
      "y =\n",
      "\n",
      "    'hello'\n",
      "\n",
      "\n",
      "z =\n",
      "\n",
      "  2x3 int64 matrix\n",
      "\n",
      "   1   2   3\n",
      "   4   5   6\n",
      "\n",
      "\n",
      "\n"
     ]
    }
   ],
   "source": [
    "%%matlab_magic eng\n",
    "load test\n",
    "x\n",
    "y\n",
    "z"
   ]
  },
  {
   "cell_type": "markdown",
   "metadata": {},
   "source": [
    "**MATLAB to Python**\n",
    "\n",
    "Source: http://www.blogforbrains.com/blog/2014/9/6/loading-matlab-mat-data-in-python"
   ]
  },
  {
   "cell_type": "code",
   "execution_count": 27,
   "metadata": {},
   "outputs": [
    {
     "data": {
      "text/plain": [
       "{'__header__': b'MATLAB 5.0 MAT-file, Platform: MACI64, Created on: Fri Feb  8 01:20:47 2019',\n",
       " '__version__': '1.0',\n",
       " '__globals__': [],\n",
       " 'a': array([[1, 2, 3],\n",
       "        [4, 5, 6]], dtype=uint8),\n",
       " 'S': array((array([[ 7,  8,  9],\n",
       "        [10, 11, 12]], dtype=uint8),), dtype=[('b', 'O')]),\n",
       " 'M': array([(array([[ 2,  4,  6],\n",
       "        [ 8, 10, 12]], dtype=uint8),),\n",
       "        (array([[ 1,  3,  5],\n",
       "        [ 7,  9, 11]], dtype=uint8),)], dtype=[('c', 'O')])}"
      ]
     },
     "execution_count": 27,
     "metadata": {},
     "output_type": "execute_result"
    }
   ],
   "source": [
    "# Similarly we have\n",
    "#scipy.io.loadmat(\"averageFunc.m\")\n",
    "variables = scipy.io.loadmat('data.mat', squeeze_me=True)\n",
    "variables"
   ]
  },
  {
   "cell_type": "code",
   "execution_count": 28,
   "metadata": {},
   "outputs": [
    {
     "data": {
      "text/plain": [
       "array([[1, 2, 3],\n",
       "       [4, 5, 6]], dtype=uint8)"
      ]
     },
     "execution_count": 28,
     "metadata": {},
     "output_type": "execute_result"
    }
   ],
   "source": [
    "a = variables['a'] # array\n",
    "S = variables['S'] # structure containing an array\n",
    "M = variables['M'] # array of structures\n",
    "\n",
    "a"
   ]
  },
  {
   "cell_type": "code",
   "execution_count": 29,
   "metadata": {},
   "outputs": [
    {
     "data": {
      "text/plain": [
       "array((array([[ 7,  8,  9],\n",
       "       [10, 11, 12]], dtype=uint8),), dtype=[('b', 'O')])"
      ]
     },
     "execution_count": 29,
     "metadata": {},
     "output_type": "execute_result"
    }
   ],
   "source": [
    "S"
   ]
  },
  {
   "cell_type": "code",
   "execution_count": 30,
   "metadata": {},
   "outputs": [
    {
     "data": {
      "text/plain": [
       "array([(array([[ 2,  4,  6],\n",
       "       [ 8, 10, 12]], dtype=uint8),),\n",
       "       (array([[ 1,  3,  5],\n",
       "       [ 7,  9, 11]], dtype=uint8),)], dtype=[('c', 'O')])"
      ]
     },
     "execution_count": 30,
     "metadata": {},
     "output_type": "execute_result"
    }
   ],
   "source": [
    "M"
   ]
  },
  {
   "cell_type": "code",
   "execution_count": 31,
   "metadata": {},
   "outputs": [],
   "source": [
    "# Adds the MMB.m as well as MMBOPT1.m and MMBOPT2.m folders to the MATLAB engine path\"\n",
    "eng.addpath(r'/Users/Desktop/monetaryPolicy/mmb-gui-mlab/2.3.2', nargout=0)\n",
    "eng.addpath(r'/Users/Desktop/monetaryPolicy/mmb-gui-mlab/2.3.2/MMB_OPTIONS', nargout=0)"
   ]
  },
  {
   "cell_type": "markdown",
   "metadata": {},
   "source": [
    "## **Important:** \n",
    "The cell below runs the MMB.m file"
   ]
  },
  {
   "cell_type": "code",
   "execution_count": 183,
   "metadata": {},
   "outputs": [],
   "source": [
    "eng.MMB(nargout = 0)"
   ]
  },
  {
   "cell_type": "markdown",
   "metadata": {},
   "source": [
    " "
   ]
  },
  {
   "cell_type": "markdown",
   "metadata": {},
   "source": [
    "### Here, we import the data for 4 IRF (Impulse Response Functions) variables\n",
    "#### outputgap, inflation, interest, output"
   ]
  },
  {
   "cell_type": "code",
   "execution_count": 170,
   "metadata": {},
   "outputs": [
    {
     "name": "stdout",
     "output_type": "stream",
     "text": [
      "OUR CURRENT MODEL IS: US_ACELm\n"
     ]
    },
    {
     "data": {
      "text/html": [
       "<div>\n",
       "<style scoped>\n",
       "    .dataframe tbody tr th:only-of-type {\n",
       "        vertical-align: middle;\n",
       "    }\n",
       "\n",
       "    .dataframe tbody tr th {\n",
       "        vertical-align: top;\n",
       "    }\n",
       "\n",
       "    .dataframe thead th {\n",
       "        text-align: right;\n",
       "    }\n",
       "</style>\n",
       "<table border=\"1\" class=\"dataframe\">\n",
       "  <thead>\n",
       "    <tr style=\"text-align: right;\">\n",
       "      <th></th>\n",
       "      <th>OutputGap</th>\n",
       "      <th>Inflation</th>\n",
       "      <th>Interest</th>\n",
       "      <th>Output</th>\n",
       "    </tr>\n",
       "    <tr>\n",
       "      <th>Period</th>\n",
       "      <th></th>\n",
       "      <th></th>\n",
       "      <th></th>\n",
       "      <th></th>\n",
       "    </tr>\n",
       "  </thead>\n",
       "  <tbody>\n",
       "    <tr>\n",
       "      <th>0</th>\n",
       "      <td>0</td>\n",
       "      <td>0</td>\n",
       "      <td>0</td>\n",
       "      <td>0</td>\n",
       "    </tr>\n",
       "    <tr>\n",
       "      <th>1</th>\n",
       "      <td>0.0311337</td>\n",
       "      <td>2.86822e-17</td>\n",
       "      <td>1.01557</td>\n",
       "      <td>0.0311337</td>\n",
       "    </tr>\n",
       "    <tr>\n",
       "      <th>2</th>\n",
       "      <td>2.18432e-16</td>\n",
       "      <td>-3.81229e-17</td>\n",
       "      <td>3.70087e-16</td>\n",
       "      <td>1.02879e-16</td>\n",
       "    </tr>\n",
       "    <tr>\n",
       "      <th>3</th>\n",
       "      <td>2.22032e-16</td>\n",
       "      <td>4.76894e-16</td>\n",
       "      <td>8.16841e-16</td>\n",
       "      <td>-5.71252e-17</td>\n",
       "    </tr>\n",
       "    <tr>\n",
       "      <th>4</th>\n",
       "      <td>2.60732e-17</td>\n",
       "      <td>1.9386e-17</td>\n",
       "      <td>9.71128e-18</td>\n",
       "      <td>7.14301e-18</td>\n",
       "    </tr>\n",
       "  </tbody>\n",
       "</table>\n",
       "</div>"
      ],
      "text/plain": [
       "          OutputGap    Inflation     Interest       Output\n",
       "Period                                                    \n",
       "0                 0            0            0            0\n",
       "1         0.0311337  2.86822e-17      1.01557    0.0311337\n",
       "2       2.18432e-16 -3.81229e-17  3.70087e-16  1.02879e-16\n",
       "3       2.22032e-16  4.76894e-16  8.16841e-16 -5.71252e-17\n",
       "4       2.60732e-17   1.9386e-17  9.71128e-18  7.14301e-18"
      ]
     },
     "execution_count": 170,
     "metadata": {},
     "output_type": "execute_result"
    }
   ],
   "source": [
    "irf_4 = pd.read_excel(\"../mmb-gui-mlab-2.3.2/OUTPUT/results.xls\", sheetname = \"IRF Mon. Pol. Shock      \")\n",
    "irf_4 = irf_4.T\n",
    "irf_headers = irf_4.iloc[0] # grab the first row for the header\n",
    "irf_4 = irf_4[1:] # take the data less the header row\n",
    "irf_4_stripped_headers = [myHeader.strip() for myHeader in np.array(irf_headers)] # removing trailing whitespaces\n",
    "irf_4.columns = irf_4_stripped_headers\n",
    "modelName = irf_4.columns.values[1]\n",
    "irf_4 = irf_4.iloc[:, [i for i in range(1, len(irf_4.columns.values), 2)]]\n",
    "irf_4.columns = [\"OutputGap\", \"Inflation\", \"Interest\", \"Output\"]\n",
    "irf_4 = irf_4.reset_index()\n",
    "irf_4.index.name = \"Period\"\n",
    "irf_4.drop('index', axis=1, inplace=True)\n",
    "print(\"OUR CURRENT MODEL IS:\", modelName)\n",
    "irf_4.head()"
   ]
  },
  {
   "cell_type": "markdown",
   "metadata": {},
   "source": [
    "### Here, we import the data for ALL IRF (Impulse Response Functions) variables"
   ]
  },
  {
   "cell_type": "code",
   "execution_count": 164,
   "metadata": {},
   "outputs": [],
   "source": [
    "old_irf_df = pd.read_excel(\"../mmb-gui-mlab-2.3.2/OUTPUT/results.xls\", sheetname = \"all IRFs Mon. Pol. Shock\")"
   ]
  },
  {
   "cell_type": "code",
   "execution_count": 167,
   "metadata": {},
   "outputs": [
    {
     "data": {
      "text/html": [
       "<div>\n",
       "<style scoped>\n",
       "    .dataframe tbody tr th:only-of-type {\n",
       "        vertical-align: middle;\n",
       "    }\n",
       "\n",
       "    .dataframe tbody tr th {\n",
       "        vertical-align: top;\n",
       "    }\n",
       "\n",
       "    .dataframe thead th {\n",
       "        text-align: right;\n",
       "    }\n",
       "</style>\n",
       "<table border=\"1\" class=\"dataframe\">\n",
       "  <thead>\n",
       "    <tr style=\"text-align: right;\">\n",
       "      <th></th>\n",
       "      <th>c_t</th>\n",
       "      <th>wtilde_t</th>\n",
       "      <th>lambda_zstar_t</th>\n",
       "      <th>m_t</th>\n",
       "      <th>pi_t</th>\n",
       "      <th>x_t</th>\n",
       "      <th>s_t</th>\n",
       "      <th>i_t</th>\n",
       "      <th>h_t</th>\n",
       "      <th>kbar_t1</th>\n",
       "      <th>...</th>\n",
       "      <th>AUX_ENDO_LAG_69_3</th>\n",
       "      <th>AUX_ENDO_LAG_68_1</th>\n",
       "      <th>AUX_ENDO_LAG_68_2</th>\n",
       "      <th>AUX_ENDO_LAG_68_3</th>\n",
       "      <th>AUX_ENDO_LAG_65_1</th>\n",
       "      <th>AUX_ENDO_LAG_65_2</th>\n",
       "      <th>AUX_ENDO_LAG_65_3</th>\n",
       "      <th>AUX_ENDO_LAG_67_1</th>\n",
       "      <th>AUX_ENDO_LAG_67_2</th>\n",
       "      <th>AUX_ENDO_LAG_67_3</th>\n",
       "    </tr>\n",
       "    <tr>\n",
       "      <th>Period</th>\n",
       "      <th></th>\n",
       "      <th></th>\n",
       "      <th></th>\n",
       "      <th></th>\n",
       "      <th></th>\n",
       "      <th></th>\n",
       "      <th></th>\n",
       "      <th></th>\n",
       "      <th></th>\n",
       "      <th></th>\n",
       "      <th></th>\n",
       "      <th></th>\n",
       "      <th></th>\n",
       "      <th></th>\n",
       "      <th></th>\n",
       "      <th></th>\n",
       "      <th></th>\n",
       "      <th></th>\n",
       "      <th></th>\n",
       "      <th></th>\n",
       "      <th></th>\n",
       "    </tr>\n",
       "  </thead>\n",
       "  <tbody>\n",
       "    <tr>\n",
       "      <th>0</th>\n",
       "      <td>0</td>\n",
       "      <td>0</td>\n",
       "      <td>0</td>\n",
       "      <td>0</td>\n",
       "      <td>0</td>\n",
       "      <td>0</td>\n",
       "      <td>0</td>\n",
       "      <td>0</td>\n",
       "      <td>0</td>\n",
       "      <td>0</td>\n",
       "      <td>...</td>\n",
       "      <td>0</td>\n",
       "      <td>0</td>\n",
       "      <td>0</td>\n",
       "      <td>0</td>\n",
       "      <td>0</td>\n",
       "      <td>0</td>\n",
       "      <td>0</td>\n",
       "      <td>0</td>\n",
       "      <td>0</td>\n",
       "      <td>0</td>\n",
       "    </tr>\n",
       "    <tr>\n",
       "      <th>1</th>\n",
       "      <td>-0.0307227</td>\n",
       "      <td>0.00011816</td>\n",
       "      <td>1.17882e-15</td>\n",
       "      <td>-2.63252e-17</td>\n",
       "      <td>0.00545838</td>\n",
       "      <td>-0.576329</td>\n",
       "      <td>0.271231</td>\n",
       "      <td>7.25589e-17</td>\n",
       "      <td>0.0481647</td>\n",
       "      <td>2.09068e-16</td>\n",
       "      <td>...</td>\n",
       "      <td>0</td>\n",
       "      <td>0</td>\n",
       "      <td>0</td>\n",
       "      <td>0</td>\n",
       "      <td>0</td>\n",
       "      <td>0</td>\n",
       "      <td>0</td>\n",
       "      <td>0</td>\n",
       "      <td>0</td>\n",
       "      <td>0</td>\n",
       "    </tr>\n",
       "    <tr>\n",
       "      <th>2</th>\n",
       "      <td>-2.71466e-18</td>\n",
       "      <td>-1.81896e-16</td>\n",
       "      <td>6.61791e-16</td>\n",
       "      <td>-0.576329</td>\n",
       "      <td>-1.18572e-16</td>\n",
       "      <td>0.576329</td>\n",
       "      <td>2.56694e-17</td>\n",
       "      <td>3.03174e-16</td>\n",
       "      <td>-1.34159e-16</td>\n",
       "      <td>4.56395e-16</td>\n",
       "      <td>...</td>\n",
       "      <td>0</td>\n",
       "      <td>0.0311337</td>\n",
       "      <td>0</td>\n",
       "      <td>0</td>\n",
       "      <td>1.01557</td>\n",
       "      <td>0</td>\n",
       "      <td>0</td>\n",
       "      <td>6.54954e-16</td>\n",
       "      <td>9.01743e-16</td>\n",
       "      <td>-1.67652e-18</td>\n",
       "    </tr>\n",
       "    <tr>\n",
       "      <th>3</th>\n",
       "      <td>-5.00618e-17</td>\n",
       "      <td>-1.36367e-16</td>\n",
       "      <td>-6.10155e-16</td>\n",
       "      <td>-7.84889e-17</td>\n",
       "      <td>-1.64344e-16</td>\n",
       "      <td>-9.45684e-16</td>\n",
       "      <td>-2.13683e-16</td>\n",
       "      <td>6.73099e-16</td>\n",
       "      <td>-6.26467e-16</td>\n",
       "      <td>9.77542e-16</td>\n",
       "      <td>...</td>\n",
       "      <td>0</td>\n",
       "      <td>2.18432e-16</td>\n",
       "      <td>0.0311337</td>\n",
       "      <td>0</td>\n",
       "      <td>3.70086e-16</td>\n",
       "      <td>1.01557</td>\n",
       "      <td>0</td>\n",
       "      <td>-6.51354e-16</td>\n",
       "      <td>4.02724e-16</td>\n",
       "      <td>9.07196e-16</td>\n",
       "    </tr>\n",
       "    <tr>\n",
       "      <th>4</th>\n",
       "      <td>-7.1145e-17</td>\n",
       "      <td>7.83955e-17</td>\n",
       "      <td>-6.80837e-17</td>\n",
       "      <td>-9.42348e-16</td>\n",
       "      <td>-2.39539e-18</td>\n",
       "      <td>7.31034e-16</td>\n",
       "      <td>-2.84422e-16</td>\n",
       "      <td>1.97296e-16</td>\n",
       "      <td>-6.11136e-16</td>\n",
       "      <td>1.07054e-15</td>\n",
       "      <td>...</td>\n",
       "      <td>0.0311337</td>\n",
       "      <td>2.22032e-16</td>\n",
       "      <td>2.18432e-16</td>\n",
       "      <td>0.0311337</td>\n",
       "      <td>8.16841e-16</td>\n",
       "      <td>3.70086e-16</td>\n",
       "      <td>1.01557</td>\n",
       "      <td>2.49008e-16</td>\n",
       "      <td>-6.51354e-16</td>\n",
       "      <td>4.02724e-16</td>\n",
       "    </tr>\n",
       "  </tbody>\n",
       "</table>\n",
       "<p>5 rows × 93 columns</p>\n",
       "</div>"
      ],
      "text/plain": [
       "                c_t     wtilde_t lambda_zstar_t          m_t         pi_t  \\\n",
       "Period                                                                      \n",
       "0                 0            0              0            0            0   \n",
       "1        -0.0307227   0.00011816    1.17882e-15 -2.63252e-17   0.00545838   \n",
       "2      -2.71466e-18 -1.81896e-16    6.61791e-16    -0.576329 -1.18572e-16   \n",
       "3      -5.00618e-17 -1.36367e-16   -6.10155e-16 -7.84889e-17 -1.64344e-16   \n",
       "4       -7.1145e-17  7.83955e-17   -6.80837e-17 -9.42348e-16 -2.39539e-18   \n",
       "\n",
       "                x_t          s_t          i_t          h_t      kbar_t1  \\\n",
       "Period                                                                    \n",
       "0                 0            0            0            0            0   \n",
       "1         -0.576329     0.271231  7.25589e-17    0.0481647  2.09068e-16   \n",
       "2          0.576329  2.56694e-17  3.03174e-16 -1.34159e-16  4.56395e-16   \n",
       "3      -9.45684e-16 -2.13683e-16  6.73099e-16 -6.26467e-16  9.77542e-16   \n",
       "4       7.31034e-16 -2.84422e-16  1.97296e-16 -6.11136e-16  1.07054e-15   \n",
       "\n",
       "              ...        AUX_ENDO_LAG_69_3 AUX_ENDO_LAG_68_1  \\\n",
       "Period        ...                                              \n",
       "0             ...                        0                 0   \n",
       "1             ...                        0                 0   \n",
       "2             ...                        0         0.0311337   \n",
       "3             ...                        0       2.18432e-16   \n",
       "4             ...                0.0311337       2.22032e-16   \n",
       "\n",
       "       AUX_ENDO_LAG_68_2 AUX_ENDO_LAG_68_3 AUX_ENDO_LAG_65_1  \\\n",
       "Period                                                         \n",
       "0                      0                 0                 0   \n",
       "1                      0                 0                 0   \n",
       "2                      0                 0           1.01557   \n",
       "3              0.0311337                 0       3.70086e-16   \n",
       "4            2.18432e-16         0.0311337       8.16841e-16   \n",
       "\n",
       "       AUX_ENDO_LAG_65_2 AUX_ENDO_LAG_65_3 AUX_ENDO_LAG_67_1  \\\n",
       "Period                                                         \n",
       "0                      0                 0                 0   \n",
       "1                      0                 0                 0   \n",
       "2                      0                 0       6.54954e-16   \n",
       "3                1.01557                 0      -6.51354e-16   \n",
       "4            3.70086e-16           1.01557       2.49008e-16   \n",
       "\n",
       "       AUX_ENDO_LAG_67_2 AUX_ENDO_LAG_67_3  \n",
       "Period                                      \n",
       "0                      0                 0  \n",
       "1                      0                 0  \n",
       "2            9.01743e-16      -1.67652e-18  \n",
       "3            4.02724e-16       9.07196e-16  \n",
       "4           -6.51354e-16       4.02724e-16  \n",
       "\n",
       "[5 rows x 93 columns]"
      ]
     },
     "execution_count": 167,
     "metadata": {},
     "output_type": "execute_result"
    }
   ],
   "source": [
    "all_irf = old_irf_df.T\n",
    "new_header = all_irf.iloc[0] # grab the first row for the header\n",
    "all_irf = all_irf[1:] # take the data less the header row\n",
    "stripped_headers = [myHeader.strip() for myHeader in np.array(new_header)] # removing trailing whitespaces\n",
    "all_irf.columns = stripped_headers # set the header row as the df header\n",
    "all_irf[\"c_t\"] = all_irf.index\n",
    "all_irf.index = np.arange(0,21,1)\n",
    "all_irf.index.name = \"Period\"\n",
    "\n",
    "# This section rearranges the columns\n",
    "n = len(list(df.columns.values))\n",
    "rearranged = [list(all_irf.columns.values)[-1]] + list(all_irf.columns.values)[:n-1]\n",
    "all_irf = all_irf[rearranged]\n",
    "all_irf.head()"
   ]
  },
  {
   "cell_type": "markdown",
   "metadata": {},
   "source": [
    "### Here, we import the data for 4 ACF (Autocorrelation Function) variables\n",
    "#### outputgap, inflation, interest, output"
   ]
  },
  {
   "cell_type": "code",
   "execution_count": 182,
   "metadata": {},
   "outputs": [
    {
     "data": {
      "text/html": [
       "<div>\n",
       "<style scoped>\n",
       "    .dataframe tbody tr th:only-of-type {\n",
       "        vertical-align: middle;\n",
       "    }\n",
       "\n",
       "    .dataframe tbody tr th {\n",
       "        vertical-align: top;\n",
       "    }\n",
       "\n",
       "    .dataframe thead th {\n",
       "        text-align: right;\n",
       "    }\n",
       "</style>\n",
       "<table border=\"1\" class=\"dataframe\">\n",
       "  <thead>\n",
       "    <tr style=\"text-align: right;\">\n",
       "      <th></th>\n",
       "      <th>OutputGap</th>\n",
       "      <th>Inflation</th>\n",
       "      <th>Interest</th>\n",
       "      <th>Output</th>\n",
       "    </tr>\n",
       "    <tr>\n",
       "      <th>Period</th>\n",
       "      <th></th>\n",
       "      <th></th>\n",
       "      <th></th>\n",
       "      <th></th>\n",
       "    </tr>\n",
       "  </thead>\n",
       "  <tbody>\n",
       "    <tr>\n",
       "      <th>0</th>\n",
       "      <td>1</td>\n",
       "      <td>1</td>\n",
       "      <td>1</td>\n",
       "      <td>1</td>\n",
       "    </tr>\n",
       "    <tr>\n",
       "      <th>1</th>\n",
       "      <td>0.99073</td>\n",
       "      <td>0.992913</td>\n",
       "      <td>0.991293</td>\n",
       "      <td>0.990932</td>\n",
       "    </tr>\n",
       "    <tr>\n",
       "      <th>2</th>\n",
       "      <td>0.973591</td>\n",
       "      <td>0.972708</td>\n",
       "      <td>0.969202</td>\n",
       "      <td>0.971704</td>\n",
       "    </tr>\n",
       "    <tr>\n",
       "      <th>3</th>\n",
       "      <td>0.951359</td>\n",
       "      <td>0.94178</td>\n",
       "      <td>0.936439</td>\n",
       "      <td>0.94537</td>\n",
       "    </tr>\n",
       "    <tr>\n",
       "      <th>4</th>\n",
       "      <td>0.925587</td>\n",
       "      <td>0.90317</td>\n",
       "      <td>0.896073</td>\n",
       "      <td>0.91379</td>\n",
       "    </tr>\n",
       "  </tbody>\n",
       "</table>\n",
       "</div>"
      ],
      "text/plain": [
       "       OutputGap Inflation  Interest    Output\n",
       "Period                                        \n",
       "0              1         1         1         1\n",
       "1        0.99073  0.992913  0.991293  0.990932\n",
       "2       0.973591  0.972708  0.969202  0.971704\n",
       "3       0.951359   0.94178  0.936439   0.94537\n",
       "4       0.925587   0.90317  0.896073   0.91379"
      ]
     },
     "execution_count": 182,
     "metadata": {},
     "output_type": "execute_result"
    }
   ],
   "source": [
    "acf = pd.read_excel(\"../mmb-gui-mlab-2.3.2/OUTPUT/results.xls\", sheetname = \"ACF\")\n",
    "acf = acf.T\n",
    "acf_headers = acf.iloc[0] # grab the first row for the header\n",
    "acf = acf[1:] # take the data less the header row\n",
    "acf_stripped_headers = [myHeader.strip() for myHeader in np.array(acf_headers)] # removing trailing whitespaces\n",
    "acf.columns = acf_stripped_headers\n",
    "acf = acf.iloc[:, [i for i in range(0, len(acf.columns.values), 2)]]\n",
    "acf.columns = [\"OutputGap\", \"Inflation\", \"Interest\", \"Output\"]\n",
    "acf = acf.reset_index()\n",
    "acf.index.name = \"Period\"\n",
    "acf.drop('index', axis=1, inplace=True)\n",
    "acf.head()"
   ]
  },
  {
   "cell_type": "code",
   "execution_count": null,
   "metadata": {},
   "outputs": [],
   "source": []
  }
 ],
 "metadata": {
  "kernelspec": {
   "display_name": "Python 3",
   "language": "python",
   "name": "python3"
  },
  "language_info": {
   "codemirror_mode": {
    "name": "ipython",
    "version": 3
   },
   "file_extension": ".py",
   "mimetype": "text/x-python",
   "name": "python",
   "nbconvert_exporter": "python",
   "pygments_lexer": "ipython3",
   "version": "3.6.4"
  }
 },
 "nbformat": 4,
 "nbformat_minor": 2
}
