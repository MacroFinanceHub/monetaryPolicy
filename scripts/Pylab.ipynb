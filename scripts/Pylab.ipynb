{
 "cells": [
  {
   "cell_type": "markdown",
   "metadata": {},
   "source": [
    "# Python helper file/script for MATLAB"
   ]
  },
  {
   "cell_type": "markdown",
   "metadata": {},
   "source": [
    "This cell sets up the notebook to import numpy, datascience, seaborn, pandas, matplotlib etc."
   ]
  },
  {
   "cell_type": "code",
   "execution_count": 27,
   "metadata": {},
   "outputs": [],
   "source": [
    "# Run this cell to set up the notebook.\n",
    "\n",
    "# These lines import the Numpy, Datascience, pandas modules.\n",
    "import numpy as np\n",
    "import pandas as pd\n",
    "import seaborn as sns\n",
    "#from datascience import *\n",
    "import random\n",
    "import matplotlib\n",
    "import matplotlib.pyplot as plt\n",
    "\n",
    "# Importing plotting libraries and styles\n",
    "%matplotlib inline\n",
    "plt.style.use('fivethirtyeight')\n",
    "\n",
    "# For Pandas to ignore FutureWarning displays\n",
    "import warnings\n",
    "warnings.simplefilter('ignore', FutureWarning)"
   ]
  },
  {
   "cell_type": "markdown",
   "metadata": {},
   "source": [
    "### The cell given below sets up MATLAB for the notebook\n",
    "Source: https://sehyoun.com/blog/20180904_using-matlab-with-jupyter-notebook.html"
   ]
  },
  {
   "cell_type": "code",
   "execution_count": 66,
   "metadata": {},
   "outputs": [],
   "source": [
    "import matlab.engine\n",
    "import io\n",
    "import scipy.io\n",
    "from IPython.core.magic import register_cell_magic\n",
    "ip = get_ipython()\n",
    "\n",
    "out = io.StringIO()\n",
    "err = io.StringIO()\n",
    "\n",
    "# Setup matlab cell magic #\n",
    "@register_cell_magic\n",
    "def matlab_magic(line,cell):\n",
    "    out.truncate(0)\n",
    "    out.seek(0)\n",
    "    err.truncate(0)\n",
    "    err.truncate(0)\n",
    "    raw = '''{line}.eval(\"\"\"{cell}\"\"\", nargout=0, stdout=out, stderr=err)'''\n",
    "    ip.run_cell(raw.format(line=line, cell=cell))\n",
    "    print(out.getvalue())\n",
    "    print(err.getvalue())\n",
    "    \n",
    "# Starting a MATLAB engine called eng\n",
    "eng = matlab.engine.start_matlab()"
   ]
  },
  {
   "cell_type": "code",
   "execution_count": 67,
   "metadata": {},
   "outputs": [
    {
     "name": "stdout",
     "output_type": "stream",
     "text": [
      "\n",
      "\n"
     ]
    }
   ],
   "source": [
    "%%matlab_magic eng\n",
    "\n",
    "t = linspace(0,6*pi,100);\n",
    "plot(sin(t))\n",
    "grid on\n",
    "hold on\n",
    "plot(cos(t), 'r')"
   ]
  },
  {
   "cell_type": "code",
   "execution_count": 68,
   "metadata": {},
   "outputs": [
    {
     "name": "stdout",
     "output_type": "stream",
     "text": [
      "     5\n",
      "\n",
      "\n",
      "x =\n",
      "\n",
      "     5\n",
      "\n",
      "\n",
      "\n"
     ]
    }
   ],
   "source": [
    "%%matlab_magic eng\n",
    "\n",
    "x = 5;\n",
    "disp(x);\n",
    "x"
   ]
  },
  {
   "cell_type": "markdown",
   "metadata": {},
   "source": [
    "Calling another MATLAB file from Python script"
   ]
  },
  {
   "cell_type": "code",
   "execution_count": 69,
   "metadata": {},
   "outputs": [
    {
     "name": "stdout",
     "output_type": "stream",
     "text": [
      "\n",
      "my_array =\n",
      "\n",
      "    10    20    30\n",
      "\n",
      "\n",
      "avgOfThis =\n",
      "\n",
      "    20\n",
      "\n",
      "\n",
      "\n"
     ]
    }
   ],
   "source": [
    "%%matlab_magic eng\n",
    "\n",
    "my_array = [10, 20, 30]\n",
    "avgOfThis = averageFunc(my_array)"
   ]
  },
  {
   "cell_type": "markdown",
   "metadata": {},
   "source": [
    "**Python to MATLAB**\n",
    "\n",
    "Source: https://stackoverflow.com/questions/10997254/converting-numpy-arrays-to-matlab-and-vice-versa"
   ]
  },
  {
   "cell_type": "code",
   "execution_count": 70,
   "metadata": {},
   "outputs": [],
   "source": [
    "x = [1,2,3]\n",
    "y = \"hello\"\n",
    "z = [[1,2,3], [4,5,6]]\n",
    "\n",
    "scipy.io.savemat('test.mat', dict(x=x, y=y, z=z))"
   ]
  },
  {
   "cell_type": "code",
   "execution_count": 74,
   "metadata": {},
   "outputs": [
    {
     "name": "stdout",
     "output_type": "stream",
     "text": [
      "\n",
      "ans =\n",
      "\n",
      "  int64\n",
      "\n",
      "   1\n",
      "\n",
      "\n",
      "y =\n",
      "\n",
      "    'hello'\n",
      "\n",
      "\n",
      "z =\n",
      "\n",
      "  2x3 int64 matrix\n",
      "\n",
      "   1   2   3\n",
      "   4   5   6\n",
      "\n",
      "\n",
      "\n"
     ]
    }
   ],
   "source": [
    "%%matlab_magic eng\n",
    "load test\n",
    "x(1)\n",
    "y\n",
    "z"
   ]
  },
  {
   "cell_type": "markdown",
   "metadata": {},
   "source": [
    "**MATLAB to Python**\n",
    "\n",
    "Source: http://www.blogforbrains.com/blog/2014/9/6/loading-matlab-mat-data-in-python"
   ]
  },
  {
   "cell_type": "code",
   "execution_count": 37,
   "metadata": {},
   "outputs": [
    {
     "data": {
      "text/plain": [
       "{'__header__': b'MATLAB 5.0 MAT-file, Platform: MACI64, Created on: Fri Feb  8 01:20:47 2019',\n",
       " '__version__': '1.0',\n",
       " '__globals__': [],\n",
       " 'a': array([[1, 2, 3],\n",
       "        [4, 5, 6]], dtype=uint8),\n",
       " 'S': array((array([[ 7,  8,  9],\n",
       "        [10, 11, 12]], dtype=uint8),), dtype=[('b', 'O')]),\n",
       " 'M': array([(array([[ 2,  4,  6],\n",
       "        [ 8, 10, 12]], dtype=uint8),),\n",
       "        (array([[ 1,  3,  5],\n",
       "        [ 7,  9, 11]], dtype=uint8),)], dtype=[('c', 'O')])}"
      ]
     },
     "execution_count": 37,
     "metadata": {},
     "output_type": "execute_result"
    }
   ],
   "source": [
    "# Similarly we have\n",
    "#scipy.io.loadmat(\"averageFunc.m\")\n",
    "variables = scipy.io.loadmat('data.mat', squeeze_me=True)\n",
    "variables"
   ]
  },
  {
   "cell_type": "code",
   "execution_count": 38,
   "metadata": {},
   "outputs": [
    {
     "data": {
      "text/plain": [
       "array([[1, 2, 3],\n",
       "       [4, 5, 6]], dtype=uint8)"
      ]
     },
     "execution_count": 38,
     "metadata": {},
     "output_type": "execute_result"
    }
   ],
   "source": [
    "a = variables['a'] # array\n",
    "S = variables['S'] # structure containing an array\n",
    "M = variables['M'] # array of structures\n",
    "\n",
    "a"
   ]
  },
  {
   "cell_type": "code",
   "execution_count": 39,
   "metadata": {},
   "outputs": [
    {
     "data": {
      "text/plain": [
       "array((array([[ 7,  8,  9],\n",
       "       [10, 11, 12]], dtype=uint8),), dtype=[('b', 'O')])"
      ]
     },
     "execution_count": 39,
     "metadata": {},
     "output_type": "execute_result"
    }
   ],
   "source": [
    "S"
   ]
  },
  {
   "cell_type": "code",
   "execution_count": 40,
   "metadata": {},
   "outputs": [
    {
     "data": {
      "text/plain": [
       "array([(array([[ 2,  4,  6],\n",
       "       [ 8, 10, 12]], dtype=uint8),),\n",
       "       (array([[ 1,  3,  5],\n",
       "       [ 7,  9, 11]], dtype=uint8),)], dtype=[('c', 'O')])"
      ]
     },
     "execution_count": 40,
     "metadata": {},
     "output_type": "execute_result"
    }
   ],
   "source": [
    "M"
   ]
  },
  {
   "cell_type": "code",
   "execution_count": 41,
   "metadata": {},
   "outputs": [],
   "source": [
    "# Adds the MMB.m as well as MMBOPT1.m and MMBOPT2.m folders to the MATLAB engine path\"\n",
    "eng.addpath(r'/Users/Desktop/monetaryPolicy/mmb-gui-mlab/2.3.2', nargout=0)\n",
    "eng.addpath(r'/Users/Desktop/monetaryPolicy/mmb-gui-mlab/2.3.2/MMB_OPTIONS', nargout=0)"
   ]
  },
  {
   "cell_type": "markdown",
   "metadata": {},
   "source": [
    "# Important:\n",
    "The code below sets the coefficients and other data for the PID rule to work."
   ]
  },
  {
   "cell_type": "code",
   "execution_count": 107,
   "metadata": {},
   "outputs": [],
   "source": [
    "# This sets the coefficients of the monetary policy rule, there are 33 coefficients and len(coefficients) = 33\n",
    "coefficients = [0, 0, 0, 0, 1.5/4, 1.5/4, 1.5/4, 1.5/4, \n",
    "                0, 0, 0, 0, 0, 0, 0, 0, \n",
    "                0, 0, 0, 0, 0, 0, 0, 0, \n",
    "                0, 0, 0, 0, 0, 0, 0, 1, 0.25]\n",
    "\n",
    "# Number of the model you want to chooose, please exclude 69-79, 19-22, 27, 59, 65, 68, 81, 97, 98\n",
    "start = 1\n",
    "end = 1\n",
    "\n",
    "\n",
    "scipy.io.savemat('variables.mat', dict(coefficients=coefficients, modelStart = start, modelEnd=end))"
   ]
  },
  {
   "cell_type": "markdown",
   "metadata": {},
   "source": [
    "## **Important:** \n",
    "The cell below runs the MMB.m file"
   ]
  },
  {
   "cell_type": "code",
   "execution_count": 112,
   "metadata": {},
   "outputs": [
    {
     "ename": "MatlabExecutionError",
     "evalue": "\n  File /Users/rishabsrivastava/Desktop/monetaryPolicy/mmb-gui-mlab-2.3.2/MMB.m, line 15, in MMB\n'../scripts/variables.mat' is not found in the current folder or on the MATLAB path, but exists in:\n    /Users/rishabsrivastava/Desktop/monetaryPolicy/mmb-gui-mlab-2.3.2\n\nChange the MATLAB current folder or add its folder to the MATLAB path.\n",
     "output_type": "error",
     "traceback": [
      "\u001b[0;31m---------------------------------------------------------------------------\u001b[0m",
      "\u001b[0;31mMatlabExecutionError\u001b[0m                      Traceback (most recent call last)",
      "\u001b[0;32m<ipython-input-112-e8676dfd1039>\u001b[0m in \u001b[0;36m<module>\u001b[0;34m\u001b[0m\n\u001b[0;32m----> 1\u001b[0;31m \u001b[0meng\u001b[0m\u001b[0;34m.\u001b[0m\u001b[0mMMB\u001b[0m\u001b[0;34m(\u001b[0m\u001b[0mnargout\u001b[0m \u001b[0;34m=\u001b[0m \u001b[0;36m0\u001b[0m\u001b[0;34m)\u001b[0m\u001b[0;34m\u001b[0m\u001b[0m\n\u001b[0m",
      "\u001b[0;32m/anaconda3/lib/python3.6/site-packages/matlab/engine/matlabengine.py\u001b[0m in \u001b[0;36m__call__\u001b[0;34m(self, *args, **kwargs)\u001b[0m\n\u001b[1;32m     69\u001b[0m         \u001b[0;32melse\u001b[0m\u001b[0;34m:\u001b[0m\u001b[0;34m\u001b[0m\u001b[0m\n\u001b[1;32m     70\u001b[0m             return FutureResult(self._engine(), future, nargs, _stdout,\n\u001b[0;32m---> 71\u001b[0;31m                                 _stderr, feval=True).result()\n\u001b[0m\u001b[1;32m     72\u001b[0m \u001b[0;34m\u001b[0m\u001b[0m\n\u001b[1;32m     73\u001b[0m     \u001b[0;32mdef\u001b[0m \u001b[0m__validate_engine\u001b[0m\u001b[0;34m(\u001b[0m\u001b[0mself\u001b[0m\u001b[0;34m)\u001b[0m\u001b[0;34m:\u001b[0m\u001b[0;34m\u001b[0m\u001b[0m\n",
      "\u001b[0;32m/anaconda3/lib/python3.6/site-packages/matlab/engine/futureresult.py\u001b[0m in \u001b[0;36mresult\u001b[0;34m(self, timeout)\u001b[0m\n\u001b[1;32m     65\u001b[0m                 \u001b[0;32mraise\u001b[0m \u001b[0mTypeError\u001b[0m\u001b[0;34m(\u001b[0m\u001b[0mpythonengine\u001b[0m\u001b[0;34m.\u001b[0m\u001b[0mgetMessage\u001b[0m\u001b[0;34m(\u001b[0m\u001b[0;34m'TimeoutCannotBeNegative'\u001b[0m\u001b[0;34m)\u001b[0m\u001b[0;34m)\u001b[0m\u001b[0;34m\u001b[0m\u001b[0m\n\u001b[1;32m     66\u001b[0m \u001b[0;34m\u001b[0m\u001b[0m\n\u001b[0;32m---> 67\u001b[0;31m         \u001b[0;32mreturn\u001b[0m \u001b[0mself\u001b[0m\u001b[0;34m.\u001b[0m\u001b[0m__future\u001b[0m\u001b[0;34m.\u001b[0m\u001b[0mresult\u001b[0m\u001b[0;34m(\u001b[0m\u001b[0mtimeout\u001b[0m\u001b[0;34m)\u001b[0m\u001b[0;34m\u001b[0m\u001b[0m\n\u001b[0m\u001b[1;32m     68\u001b[0m \u001b[0;34m\u001b[0m\u001b[0m\n\u001b[1;32m     69\u001b[0m     \u001b[0;32mdef\u001b[0m \u001b[0mcancel\u001b[0m\u001b[0;34m(\u001b[0m\u001b[0mself\u001b[0m\u001b[0;34m)\u001b[0m\u001b[0;34m:\u001b[0m\u001b[0;34m\u001b[0m\u001b[0m\n",
      "\u001b[0;32m/anaconda3/lib/python3.6/site-packages/matlab/engine/fevalfuture.py\u001b[0m in \u001b[0;36mresult\u001b[0;34m(self, timeout)\u001b[0m\n\u001b[1;32m     80\u001b[0m                 \u001b[0;32mraise\u001b[0m \u001b[0mTimeoutError\u001b[0m\u001b[0;34m(\u001b[0m\u001b[0mpythonengine\u001b[0m\u001b[0;34m.\u001b[0m\u001b[0mgetMessage\u001b[0m\u001b[0;34m(\u001b[0m\u001b[0;34m'MatlabFunctionTimeout'\u001b[0m\u001b[0;34m)\u001b[0m\u001b[0;34m)\u001b[0m\u001b[0;34m\u001b[0m\u001b[0m\n\u001b[1;32m     81\u001b[0m \u001b[0;34m\u001b[0m\u001b[0m\n\u001b[0;32m---> 82\u001b[0;31m             \u001b[0mself\u001b[0m\u001b[0;34m.\u001b[0m\u001b[0m_result\u001b[0m \u001b[0;34m=\u001b[0m \u001b[0mpythonengine\u001b[0m\u001b[0;34m.\u001b[0m\u001b[0mgetFEvalResult\u001b[0m\u001b[0;34m(\u001b[0m\u001b[0mself\u001b[0m\u001b[0;34m.\u001b[0m\u001b[0m_future\u001b[0m\u001b[0;34m,\u001b[0m\u001b[0mself\u001b[0m\u001b[0;34m.\u001b[0m\u001b[0m_nargout\u001b[0m\u001b[0;34m,\u001b[0m \u001b[0;32mNone\u001b[0m\u001b[0;34m,\u001b[0m \u001b[0mout\u001b[0m\u001b[0;34m=\u001b[0m\u001b[0mself\u001b[0m\u001b[0;34m.\u001b[0m\u001b[0m_out\u001b[0m\u001b[0;34m,\u001b[0m \u001b[0merr\u001b[0m\u001b[0;34m=\u001b[0m\u001b[0mself\u001b[0m\u001b[0;34m.\u001b[0m\u001b[0m_err\u001b[0m\u001b[0;34m)\u001b[0m\u001b[0;34m\u001b[0m\u001b[0m\n\u001b[0m\u001b[1;32m     83\u001b[0m             \u001b[0mself\u001b[0m\u001b[0;34m.\u001b[0m\u001b[0m_retrieved\u001b[0m \u001b[0;34m=\u001b[0m \u001b[0;32mTrue\u001b[0m\u001b[0;34m\u001b[0m\u001b[0m\n\u001b[1;32m     84\u001b[0m             \u001b[0;32mreturn\u001b[0m \u001b[0mself\u001b[0m\u001b[0;34m.\u001b[0m\u001b[0m_result\u001b[0m\u001b[0;34m\u001b[0m\u001b[0m\n",
      "\u001b[0;31mMatlabExecutionError\u001b[0m: \n  File /Users/rishabsrivastava/Desktop/monetaryPolicy/mmb-gui-mlab-2.3.2/MMB.m, line 15, in MMB\n'../scripts/variables.mat' is not found in the current folder or on the MATLAB path, but exists in:\n    /Users/rishabsrivastava/Desktop/monetaryPolicy/mmb-gui-mlab-2.3.2\n\nChange the MATLAB current folder or add its folder to the MATLAB path.\n"
     ]
    }
   ],
   "source": [
    "eng.MMB(nargout = 0)"
   ]
  },
  {
   "cell_type": "markdown",
   "metadata": {},
   "source": [
    " "
   ]
  },
  {
   "cell_type": "markdown",
   "metadata": {},
   "source": [
    "### Functions defined to import data for:\n",
    "* 4 IRF: Impulse Response Function Variables (outputgap, inflation, interest, output)\n",
    "* All IRF Variables\n",
    "* 4 ACF: Autocorrelation Function Variables (outputgap, inflation, interest, output)\n"
   ]
  },
  {
   "cell_type": "code",
   "execution_count": 103,
   "metadata": {},
   "outputs": [],
   "source": [
    "def singleModel_irf4():\n",
    "    irf_4 = pd.read_excel(\"../mmb-gui-mlab-2.3.2/OUTPUT/results.xls\", sheetname = \"IRF Mon. Pol. Shock      \")\n",
    "    irf_4 = irf_4.T\n",
    "    irf_headers = irf_4.iloc[0] # grab the first row for the header\n",
    "    irf_4 = irf_4[1:] # take the data less the header row\n",
    "    irf_4_stripped_headers = [myHeader.strip() for myHeader in np.array(irf_headers)] # removing trailing whitespaces\n",
    "    irf_4.columns = irf_4_stripped_headers\n",
    "    modelName = irf_4.columns.values[1]\n",
    "    irf_4 = irf_4.iloc[:, [i for i in range(1, len(irf_4.columns.values), 2)]]\n",
    "    irf_4.columns = [\"OutputGap\", \"Inflation\", \"Interest\", \"Output\"]\n",
    "    irf_4 = irf_4.reset_index()\n",
    "    irf_4.index.name = \"Period\"\n",
    "    irf_4.drop('index', axis=1, inplace=True)\n",
    "    return irf_4, modelName\n",
    "\n",
    "def singleModel_allirf():\n",
    "    old_irf_df = pd.read_excel(\"../mmb-gui-mlab-2.3.2/OUTPUT/results.xls\", sheetname = \"all IRFs Mon. Pol. Shock\")\n",
    "    all_irf = old_irf_df.T\n",
    "    new_header = all_irf.iloc[0] # grab the first row for the header\n",
    "    all_irf = all_irf[1:] # take the data less the header row\n",
    "    stripped_headers = [myHeader.strip() for myHeader in np.array(new_header)] # removing trailing whitespaces\n",
    "    all_irf.columns = stripped_headers # set the header row as the df header\n",
    "    all_irf[\"c_t\"] = all_irf.index\n",
    "    all_irf.index = np.arange(0,21,1)\n",
    "    all_irf.index.name = \"Period\"\n",
    "\n",
    "    # This section rearranges the columns\n",
    "    n = len(list(all_irf.columns.values))\n",
    "    rearranged = [list(all_irf.columns.values)[-1]] + list(all_irf.columns.values)[:n-1]\n",
    "    all_irf = all_irf[rearranged]\n",
    "    return all_irf\n",
    "\n",
    "def singleModel_acf():\n",
    "    acf = pd.read_excel(\"../mmb-gui-mlab-2.3.2/OUTPUT/results.xls\", sheetname = \"ACF\")\n",
    "    acf = acf.T\n",
    "    acf_headers = acf.iloc[0] # grab the first row for the header\n",
    "    acf = acf[1:] # take the data less the header row\n",
    "    acf_stripped_headers = [myHeader.strip() for myHeader in np.array(acf_headers)] # removing trailing whitespaces\n",
    "    acf.columns = acf_stripped_headers\n",
    "    acf = acf.iloc[:, [i for i in range(0, len(acf.columns.values), 2)]]\n",
    "    acf.columns = [\"OutputGap\", \"Inflation\", \"Interest\", \"Output\"]\n",
    "    acf = acf.reset_index()\n",
    "    acf.index.name = \"Period\"\n",
    "    acf.drop('index', axis=1, inplace=True)\n",
    "    return acf"
   ]
  },
  {
   "cell_type": "code",
   "execution_count": 104,
   "metadata": {},
   "outputs": [
    {
     "data": {
      "text/html": [
       "<div>\n",
       "<style scoped>\n",
       "    .dataframe tbody tr th:only-of-type {\n",
       "        vertical-align: middle;\n",
       "    }\n",
       "\n",
       "    .dataframe tbody tr th {\n",
       "        vertical-align: top;\n",
       "    }\n",
       "\n",
       "    .dataframe thead th {\n",
       "        text-align: right;\n",
       "    }\n",
       "</style>\n",
       "<table border=\"1\" class=\"dataframe\">\n",
       "  <thead>\n",
       "    <tr style=\"text-align: right;\">\n",
       "      <th></th>\n",
       "      <th>OutputGap</th>\n",
       "      <th>Inflation</th>\n",
       "      <th>Interest</th>\n",
       "      <th>Output</th>\n",
       "    </tr>\n",
       "    <tr>\n",
       "      <th>Period</th>\n",
       "      <th></th>\n",
       "      <th></th>\n",
       "      <th></th>\n",
       "      <th></th>\n",
       "    </tr>\n",
       "  </thead>\n",
       "  <tbody>\n",
       "    <tr>\n",
       "      <th>0</th>\n",
       "      <td>1</td>\n",
       "      <td>1</td>\n",
       "      <td>1</td>\n",
       "      <td>1</td>\n",
       "    </tr>\n",
       "    <tr>\n",
       "      <th>1</th>\n",
       "      <td>0.536911</td>\n",
       "      <td>0.754082</td>\n",
       "      <td>0.754082</td>\n",
       "      <td>0.610285</td>\n",
       "    </tr>\n",
       "    <tr>\n",
       "      <th>2</th>\n",
       "      <td>0.248427</td>\n",
       "      <td>0.558851</td>\n",
       "      <td>0.558851</td>\n",
       "      <td>0.367156</td>\n",
       "    </tr>\n",
       "    <tr>\n",
       "      <th>3</th>\n",
       "      <td>0.0770577</td>\n",
       "      <td>0.368061</td>\n",
       "      <td>0.368061</td>\n",
       "      <td>0.219724</td>\n",
       "    </tr>\n",
       "    <tr>\n",
       "      <th>4</th>\n",
       "      <td>0.00137064</td>\n",
       "      <td>0.143743</td>\n",
       "      <td>0.143743</td>\n",
       "      <td>0.143081</td>\n",
       "    </tr>\n",
       "    <tr>\n",
       "      <th>5</th>\n",
       "      <td>0.0333863</td>\n",
       "      <td>0.15455</td>\n",
       "      <td>0.15455</td>\n",
       "      <td>0.133783</td>\n",
       "    </tr>\n",
       "    <tr>\n",
       "      <th>6</th>\n",
       "      <td>0.0319908</td>\n",
       "      <td>0.135618</td>\n",
       "      <td>0.135618</td>\n",
       "      <td>0.109869</td>\n",
       "    </tr>\n",
       "    <tr>\n",
       "      <th>7</th>\n",
       "      <td>0.0235166</td>\n",
       "      <td>0.108023</td>\n",
       "      <td>0.108023</td>\n",
       "      <td>0.0865773</td>\n",
       "    </tr>\n",
       "    <tr>\n",
       "      <th>8</th>\n",
       "      <td>0.0173222</td>\n",
       "      <td>0.0835915</td>\n",
       "      <td>0.0835915</td>\n",
       "      <td>0.068419</td>\n",
       "    </tr>\n",
       "    <tr>\n",
       "      <th>9</th>\n",
       "      <td>0.0141565</td>\n",
       "      <td>0.0669823</td>\n",
       "      <td>0.0669823</td>\n",
       "      <td>0.0549256</td>\n",
       "    </tr>\n",
       "    <tr>\n",
       "      <th>10</th>\n",
       "      <td>0.0115145</td>\n",
       "      <td>0.0538917</td>\n",
       "      <td>0.0538917</td>\n",
       "      <td>0.0440492</td>\n",
       "    </tr>\n",
       "    <tr>\n",
       "      <th>11</th>\n",
       "      <td>0.0092033</td>\n",
       "      <td>0.0431577</td>\n",
       "      <td>0.0431577</td>\n",
       "      <td>0.035232</td>\n",
       "    </tr>\n",
       "    <tr>\n",
       "      <th>12</th>\n",
       "      <td>0.00733145</td>\n",
       "      <td>0.0344798</td>\n",
       "      <td>0.0344798</td>\n",
       "      <td>0.0281674</td>\n",
       "    </tr>\n",
       "    <tr>\n",
       "      <th>13</th>\n",
       "      <td>0.00586437</td>\n",
       "      <td>0.0275755</td>\n",
       "      <td>0.0275755</td>\n",
       "      <td>0.0225338</td>\n",
       "    </tr>\n",
       "    <tr>\n",
       "      <th>14</th>\n",
       "      <td>0.00469538</td>\n",
       "      <td>0.0220653</td>\n",
       "      <td>0.0220653</td>\n",
       "      <td>0.0180294</td>\n",
       "    </tr>\n",
       "    <tr>\n",
       "      <th>15</th>\n",
       "      <td>0.00375691</td>\n",
       "      <td>0.0176541</td>\n",
       "      <td>0.0176541</td>\n",
       "      <td>0.0144238</td>\n",
       "    </tr>\n",
       "    <tr>\n",
       "      <th>16</th>\n",
       "      <td>0.00300502</td>\n",
       "      <td>0.0141227</td>\n",
       "      <td>0.0141227</td>\n",
       "      <td>0.0115387</td>\n",
       "    </tr>\n",
       "    <tr>\n",
       "      <th>17</th>\n",
       "      <td>0.00240389</td>\n",
       "      <td>0.0112979</td>\n",
       "      <td>0.0112979</td>\n",
       "      <td>0.00923092</td>\n",
       "    </tr>\n",
       "    <tr>\n",
       "      <th>18</th>\n",
       "      <td>0.00192317</td>\n",
       "      <td>0.00903834</td>\n",
       "      <td>0.00903834</td>\n",
       "      <td>0.00738477</td>\n",
       "    </tr>\n",
       "    <tr>\n",
       "      <th>19</th>\n",
       "      <td>0.00153856</td>\n",
       "      <td>0.00723071</td>\n",
       "      <td>0.00723071</td>\n",
       "      <td>0.00590783</td>\n",
       "    </tr>\n",
       "    <tr>\n",
       "      <th>20</th>\n",
       "      <td>0.00123084</td>\n",
       "      <td>0.00578457</td>\n",
       "      <td>0.00578457</td>\n",
       "      <td>0.00472626</td>\n",
       "    </tr>\n",
       "  </tbody>\n",
       "</table>\n",
       "</div>"
      ],
      "text/plain": [
       "         OutputGap   Inflation    Interest      Output\n",
       "Period                                                \n",
       "0                1           1           1           1\n",
       "1         0.536911    0.754082    0.754082    0.610285\n",
       "2         0.248427    0.558851    0.558851    0.367156\n",
       "3        0.0770577    0.368061    0.368061    0.219724\n",
       "4       0.00137064    0.143743    0.143743    0.143081\n",
       "5        0.0333863     0.15455     0.15455    0.133783\n",
       "6        0.0319908    0.135618    0.135618    0.109869\n",
       "7        0.0235166    0.108023    0.108023   0.0865773\n",
       "8        0.0173222   0.0835915   0.0835915    0.068419\n",
       "9        0.0141565   0.0669823   0.0669823   0.0549256\n",
       "10       0.0115145   0.0538917   0.0538917   0.0440492\n",
       "11       0.0092033   0.0431577   0.0431577    0.035232\n",
       "12      0.00733145   0.0344798   0.0344798   0.0281674\n",
       "13      0.00586437   0.0275755   0.0275755   0.0225338\n",
       "14      0.00469538   0.0220653   0.0220653   0.0180294\n",
       "15      0.00375691   0.0176541   0.0176541   0.0144238\n",
       "16      0.00300502   0.0141227   0.0141227   0.0115387\n",
       "17      0.00240389   0.0112979   0.0112979  0.00923092\n",
       "18      0.00192317  0.00903834  0.00903834  0.00738477\n",
       "19      0.00153856  0.00723071  0.00723071  0.00590783\n",
       "20      0.00123084  0.00578457  0.00578457  0.00472626"
      ]
     },
     "execution_count": 104,
     "metadata": {},
     "output_type": "execute_result"
    }
   ],
   "source": [
    "singleModel_acf()"
   ]
  }
 ],
 "metadata": {
  "kernelspec": {
   "display_name": "Python 3",
   "language": "python",
   "name": "python3"
  },
  "language_info": {
   "codemirror_mode": {
    "name": "ipython",
    "version": 3
   },
   "file_extension": ".py",
   "mimetype": "text/x-python",
   "name": "python",
   "nbconvert_exporter": "python",
   "pygments_lexer": "ipython3",
   "version": "3.6.4"
  }
 },
 "nbformat": 4,
 "nbformat_minor": 2
}
