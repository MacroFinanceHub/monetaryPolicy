{
 "cells": [
  {
   "cell_type": "markdown",
   "metadata": {},
   "source": [
    "# Python helper file/script for MATLAB"
   ]
  },
  {
   "cell_type": "markdown",
   "metadata": {},
   "source": [
    "This cell sets up the notebook to import numpy, seaborn, pandas, matplotlib etc."
   ]
  },
  {
   "cell_type": "code",
   "execution_count": 15,
   "metadata": {},
   "outputs": [],
   "source": [
    "# Run this cell to set up the notebook.\n",
    "\n",
    "# These lines import the Numpy, Pandas, Seaborn, Matplotlib modules.\n",
    "import numpy as np\n",
    "import pandas as pd\n",
    "import seaborn as sns\n",
    "import random\n",
    "import matplotlib\n",
    "import matplotlib.pyplot as plt\n",
    "\n",
    "# Importing plotting libraries and styles\n",
    "%matplotlib inline\n",
    "plt.style.use('fivethirtyeight')\n",
    "\n",
    "# For Pandas to ignore FutureWarning displays\n",
    "import warnings\n",
    "warnings.simplefilter('ignore', FutureWarning)"
   ]
  },
  {
   "cell_type": "markdown",
   "metadata": {},
   "source": [
    "### The cell given below sets up MATLAB for the notebook\n",
    "Source: https://sehyoun.com/blog/20180904_using-matlab-with-jupyter-notebook.html"
   ]
  },
  {
   "cell_type": "code",
   "execution_count": 3,
   "metadata": {},
   "outputs": [],
   "source": [
    "import matlab.engine\n",
    "import io\n",
    "import scipy.io\n",
    "from IPython.core.magic import register_cell_magic\n",
    "ip = get_ipython()\n",
    "\n",
    "out = io.StringIO()\n",
    "err = io.StringIO()\n",
    "\n",
    "# Setup matlab cell magic #\n",
    "@register_cell_magic\n",
    "def matlab_magic(line,cell):\n",
    "    out.truncate(0)\n",
    "    out.seek(0)\n",
    "    err.truncate(0)\n",
    "    err.truncate(0)\n",
    "    raw = '''{line}.eval(\"\"\"{cell}\"\"\", nargout=0, stdout=out, stderr=err)'''\n",
    "    ip.run_cell(raw.format(line=line, cell=cell))\n",
    "    print(out.getvalue())\n",
    "    print(err.getvalue())\n",
    "    \n",
    "# Starting a MATLAB engine called eng\n",
    "eng = matlab.engine.start_matlab()"
   ]
  },
  {
   "cell_type": "markdown",
   "metadata": {},
   "source": [
    "**Note:** Change this to the file path on your computer."
   ]
  },
  {
   "cell_type": "code",
   "execution_count": 4,
   "metadata": {},
   "outputs": [],
   "source": [
    "# Adds the MMB.m as well as MMBOPT1.m and MMBOPT2.m folders to the MATLAB engine path\"\n",
    "eng.addpath(r'/Users/Desktop/monetaryPolicy/mmb-gui-mlab/2.3.2', nargout=0)\n",
    "eng.addpath(r'/Users/Desktop/monetaryPolicy/mmb-gui-mlab/2.3.2/MMB_OPTIONS', nargout=0)"
   ]
  },
  {
   "cell_type": "markdown",
   "metadata": {},
   "source": [
    "# Important:\n",
    "The code below sets the coefficients and other data for the PID rule to work."
   ]
  },
  {
   "cell_type": "markdown",
   "metadata": {},
   "source": [
    "Check out the coefficients table here:\n",
    "\n",
    "https://rishab231.github.io/img/coefficients.png"
   ]
  },
  {
   "cell_type": "code",
   "execution_count": 5,
   "metadata": {},
   "outputs": [],
   "source": [
    "# This sets the coefficients of the monetary policy rule, there are 33 coefficients and len(coefficients) = 33\n",
    "coefficients = [0, 0, 0, 0, 1.5/4, 1.5/4, 1.5/4, 1.5/4, \n",
    "                0, 0, 0, 0, 0, 0, 0, 0, \n",
    "                0, 0, 0, 0, 0, 0, 0, 0, \n",
    "                0, 0, 0, 0, 0, 0, 0, 1, 0.25]\n",
    "\n",
    "# Number of the model you want to chooose, please exclude 69-79, 19-22, 27, 59, 65, 68, 81, 97, 98\n",
    "modelNum = 1\n",
    "\n",
    "scipy.io.savemat('variables.mat', dict(coefficients=coefficients, modelNumber = modelNum))"
   ]
  },
  {
   "cell_type": "markdown",
   "metadata": {},
   "source": [
    "## **Important:** \n",
    "The cell below runs the MMB.m file"
   ]
  },
  {
   "cell_type": "code",
   "execution_count": 6,
   "metadata": {},
   "outputs": [],
   "source": [
    "eng.MMB(nargout = 0)"
   ]
  },
  {
   "cell_type": "markdown",
   "metadata": {},
   "source": [
    " "
   ]
  },
  {
   "cell_type": "markdown",
   "metadata": {},
   "source": [
    "### Functions defined to import data for:\n",
    "* 4 IRF: Impulse Response Function Variables (outputgap, inflation, interest, output) and `modelName`\n",
    "* All IRF Variables\n",
    "* 4 ACF: Autocorrelation Function Variables (outputgap, inflation, interest, output)\n",
    "* **Unconditional Variances**\n"
   ]
  },
  {
   "cell_type": "code",
   "execution_count": 7,
   "metadata": {},
   "outputs": [],
   "source": [
    "def getModelName():\n",
    "    irf_4 = pd.read_excel(\"../mmb-gui-mlab-2.3.2/OUTPUT/results.xls\", sheetname = \"IRF Mon. Pol. Shock      \")\n",
    "    irf_4 = irf_4.T\n",
    "    irf_headers = irf_4.iloc[0] # grab the first row for the header\n",
    "    irf_4 = irf_4[1:] # take the data less the header row\n",
    "    irf_4_stripped_headers = [myHeader.strip() for myHeader in np.array(irf_headers)] # removing trailing whitespaces\n",
    "    irf_4.columns = irf_4_stripped_headers\n",
    "    modelName = irf_4.columns.values[1]\n",
    "    return modelName\n",
    "\n",
    "def singleModel_irf4():\n",
    "    irf_4 = pd.read_excel(\"../mmb-gui-mlab-2.3.2/OUTPUT/results.xls\", sheetname = \"IRF Mon. Pol. Shock      \")\n",
    "    irf_4 = irf_4.T\n",
    "    irf_headers = irf_4.iloc[0] # grab the first row for the header\n",
    "    irf_4 = irf_4[1:] # take the data less the header row\n",
    "    irf_4_stripped_headers = [myHeader.strip() for myHeader in np.array(irf_headers)] # removing trailing whitespaces\n",
    "    irf_4.columns = irf_4_stripped_headers\n",
    "    modelName = irf_4.columns.values[1]\n",
    "    irf_4 = irf_4.iloc[:, [i for i in range(1, len(irf_4.columns.values), 2)]]\n",
    "    irf_4.columns = [\"OutputGap\", \"Inflation\", \"Interest\", \"Output\"]\n",
    "    irf_4 = irf_4.reset_index()\n",
    "    irf_4.index.name = \"Period\"\n",
    "    irf_4.drop('index', axis=1, inplace=True)\n",
    "    return irf_4\n",
    "\n",
    "def singleModel_allirf():\n",
    "    old_irf_df = pd.read_excel(\"../mmb-gui-mlab-2.3.2/OUTPUT/results.xls\", sheetname = \"all IRFs Mon. Pol. Shock\")\n",
    "    all_irf = old_irf_df.T\n",
    "    new_header = all_irf.iloc[0] # grab the first row for the header\n",
    "    all_irf = all_irf[1:] # take the data less the header row\n",
    "    stripped_headers = [myHeader.strip() for myHeader in np.array(new_header)] # removing trailing whitespaces\n",
    "    all_irf.columns = stripped_headers # set the header row as the df header\n",
    "    all_irf[\"c_t\"] = all_irf.index\n",
    "    all_irf.index = np.arange(0,21,1)\n",
    "    all_irf.index.name = \"Period\"\n",
    "\n",
    "    # This section rearranges the columns\n",
    "    n = len(list(all_irf.columns.values))\n",
    "    rearranged = [list(all_irf.columns.values)[-1]] + list(all_irf.columns.values)[:n-1]\n",
    "    all_irf = all_irf[rearranged]\n",
    "    return all_irf\n",
    "\n",
    "def singleModel_acf():\n",
    "    acf = pd.read_excel(\"../mmb-gui-mlab-2.3.2/OUTPUT/results.xls\", sheetname = \"ACF\")\n",
    "    acf = acf.T\n",
    "    acf_headers = acf.iloc[0] # grab the first row for the header\n",
    "    acf = acf[1:] # take the data less the header row\n",
    "    acf_stripped_headers = [myHeader.strip() for myHeader in np.array(acf_headers)] # removing trailing whitespaces\n",
    "    acf.columns = acf_stripped_headers\n",
    "    acf = acf.iloc[:, [i for i in range(0, len(acf.columns.values), 2)]]\n",
    "    acf.columns = [\"OutputGap\", \"Inflation\", \"Interest\", \"Output\"]\n",
    "    acf = acf.reset_index()\n",
    "    acf.index.name = \"Period\"\n",
    "    acf.drop('index', axis=1, inplace=True)\n",
    "    return acf\n",
    "\n",
    "def unconditionalVariances():\n",
    "    var4 = pd.read_csv(\"../mmb-gui-mlab-2.3.2/OUTPUT/variances.csv\", names=[\"interest\", \"inflation\", \"outputgap\", \"output\"])\n",
    "    return var4"
   ]
  },
  {
   "cell_type": "code",
   "execution_count": 8,
   "metadata": {},
   "outputs": [
    {
     "data": {
      "text/html": [
       "<div>\n",
       "<style scoped>\n",
       "    .dataframe tbody tr th:only-of-type {\n",
       "        vertical-align: middle;\n",
       "    }\n",
       "\n",
       "    .dataframe tbody tr th {\n",
       "        vertical-align: top;\n",
       "    }\n",
       "\n",
       "    .dataframe thead th {\n",
       "        text-align: right;\n",
       "    }\n",
       "</style>\n",
       "<table border=\"1\" class=\"dataframe\">\n",
       "  <thead>\n",
       "    <tr style=\"text-align: right;\">\n",
       "      <th></th>\n",
       "      <th>OutputGap</th>\n",
       "      <th>Inflation</th>\n",
       "      <th>Interest</th>\n",
       "      <th>Output</th>\n",
       "    </tr>\n",
       "    <tr>\n",
       "      <th>Period</th>\n",
       "      <th></th>\n",
       "      <th></th>\n",
       "      <th></th>\n",
       "      <th></th>\n",
       "    </tr>\n",
       "  </thead>\n",
       "  <tbody>\n",
       "    <tr>\n",
       "      <th>0</th>\n",
       "      <td>0</td>\n",
       "      <td>0</td>\n",
       "      <td>0</td>\n",
       "      <td>0</td>\n",
       "    </tr>\n",
       "    <tr>\n",
       "      <th>1</th>\n",
       "      <td>-1.32917</td>\n",
       "      <td>-0.0272047</td>\n",
       "      <td>0.959193</td>\n",
       "      <td>-1.32917</td>\n",
       "    </tr>\n",
       "    <tr>\n",
       "      <th>2</th>\n",
       "      <td>0.13669</td>\n",
       "      <td>-0.0219439</td>\n",
       "      <td>-0.0329159</td>\n",
       "      <td>0.13669</td>\n",
       "    </tr>\n",
       "  </tbody>\n",
       "</table>\n",
       "</div>"
      ],
      "text/plain": [
       "       OutputGap  Inflation   Interest   Output\n",
       "Period                                         \n",
       "0              0          0          0        0\n",
       "1       -1.32917 -0.0272047   0.959193 -1.32917\n",
       "2        0.13669 -0.0219439 -0.0329159  0.13669"
      ]
     },
     "execution_count": 8,
     "metadata": {},
     "output_type": "execute_result"
    }
   ],
   "source": [
    "singleModel_irf4().head(3)"
   ]
  },
  {
   "cell_type": "code",
   "execution_count": 9,
   "metadata": {},
   "outputs": [
    {
     "data": {
      "text/html": [
       "<div>\n",
       "<style scoped>\n",
       "    .dataframe tbody tr th:only-of-type {\n",
       "        vertical-align: middle;\n",
       "    }\n",
       "\n",
       "    .dataframe tbody tr th {\n",
       "        vertical-align: top;\n",
       "    }\n",
       "\n",
       "    .dataframe thead th {\n",
       "        text-align: right;\n",
       "    }\n",
       "</style>\n",
       "<table border=\"1\" class=\"dataframe\">\n",
       "  <thead>\n",
       "    <tr style=\"text-align: right;\">\n",
       "      <th></th>\n",
       "      <th>OutputGap</th>\n",
       "      <th>Inflation</th>\n",
       "      <th>Interest</th>\n",
       "      <th>Output</th>\n",
       "    </tr>\n",
       "    <tr>\n",
       "      <th>Period</th>\n",
       "      <th></th>\n",
       "      <th></th>\n",
       "      <th></th>\n",
       "      <th></th>\n",
       "    </tr>\n",
       "  </thead>\n",
       "  <tbody>\n",
       "    <tr>\n",
       "      <th>0</th>\n",
       "      <td>1</td>\n",
       "      <td>1</td>\n",
       "      <td>1</td>\n",
       "      <td>1</td>\n",
       "    </tr>\n",
       "    <tr>\n",
       "      <th>1</th>\n",
       "      <td>0.536911</td>\n",
       "      <td>0.754082</td>\n",
       "      <td>0.754082</td>\n",
       "      <td>0.610285</td>\n",
       "    </tr>\n",
       "    <tr>\n",
       "      <th>2</th>\n",
       "      <td>0.248427</td>\n",
       "      <td>0.558851</td>\n",
       "      <td>0.558851</td>\n",
       "      <td>0.367156</td>\n",
       "    </tr>\n",
       "  </tbody>\n",
       "</table>\n",
       "</div>"
      ],
      "text/plain": [
       "       OutputGap Inflation  Interest    Output\n",
       "Period                                        \n",
       "0              1         1         1         1\n",
       "1       0.536911  0.754082  0.754082  0.610285\n",
       "2       0.248427  0.558851  0.558851  0.367156"
      ]
     },
     "execution_count": 9,
     "metadata": {},
     "output_type": "execute_result"
    }
   ],
   "source": [
    "singleModel_acf().head(3)"
   ]
  },
  {
   "cell_type": "code",
   "execution_count": 10,
   "metadata": {
    "scrolled": true
   },
   "outputs": [
    {
     "data": {
      "text/html": [
       "<div>\n",
       "<style scoped>\n",
       "    .dataframe tbody tr th:only-of-type {\n",
       "        vertical-align: middle;\n",
       "    }\n",
       "\n",
       "    .dataframe tbody tr th {\n",
       "        vertical-align: top;\n",
       "    }\n",
       "\n",
       "    .dataframe thead th {\n",
       "        text-align: right;\n",
       "    }\n",
       "</style>\n",
       "<table border=\"1\" class=\"dataframe\">\n",
       "  <thead>\n",
       "    <tr style=\"text-align: right;\">\n",
       "      <th></th>\n",
       "      <th>interest</th>\n",
       "      <th>inflation</th>\n",
       "      <th>outputgap</th>\n",
       "      <th>output</th>\n",
       "    </tr>\n",
       "  </thead>\n",
       "  <tbody>\n",
       "    <tr>\n",
       "      <th>0</th>\n",
       "      <td>0.12596</td>\n",
       "      <td>0.055981</td>\n",
       "      <td>1.7009</td>\n",
       "      <td>2.861</td>\n",
       "    </tr>\n",
       "  </tbody>\n",
       "</table>\n",
       "</div>"
      ],
      "text/plain": [
       "   interest  inflation  outputgap  output\n",
       "0   0.12596   0.055981     1.7009   2.861"
      ]
     },
     "execution_count": 10,
     "metadata": {},
     "output_type": "execute_result"
    }
   ],
   "source": [
    "unconditionalVariances()"
   ]
  },
  {
   "cell_type": "markdown",
   "metadata": {},
   "source": [
    "\n",
    "Calculating `unconditionalVariances` for different models, in an array of `modelNums`"
   ]
  },
  {
   "cell_type": "code",
   "execution_count": 13,
   "metadata": {},
   "outputs": [],
   "source": [
    "def myVariance(modelNums):\n",
    "    variances = dict()\n",
    "    for modelNum in modelNums:\n",
    "        eng.MMB(nargout = 0)\n",
    "        scipy.io.savemat('variables.mat', dict(coefficients=coefficients, modelNumber = modelNum))\n",
    "        modelName = getModelName()\n",
    "        variances[modelName] = unconditionalVariances().values.tolist()[0]\n",
    "    return variances"
   ]
  },
  {
   "cell_type": "markdown",
   "metadata": {},
   "source": [
    "Calculating unconditional variances for different rules"
   ]
  },
  {
   "cell_type": "code",
   "execution_count": 14,
   "metadata": {},
   "outputs": [
    {
     "data": {
      "text/plain": [
       "{'NK_LWW03': [1.4062, 0.62497, 64.02199999999999, 0.0],\n",
       " 'NK_RW97': [0.12596, 0.055980999999999996, 1.7009, 2.861]}"
      ]
     },
     "execution_count": 14,
     "metadata": {},
     "output_type": "execute_result"
    }
   ],
   "source": [
    "myVariance(np.arange(1,3))"
   ]
  },
  {
   "cell_type": "markdown",
   "metadata": {},
   "source": [
    "## Completed tasks:\n",
    "* Extracted unconditional variances from the MATLAB code as CSV file (in `OUTPUT/variances.csv`)\n",
    "* Created a `coefficients` matrix which can be used to feed in a User Defined Rule through Python\n",
    "* Can input `modelNum` to iterate upon when using our User Defined Rule\n",
    "* Commented out the part that produces visualizations to save time\n",
    "* Systemize functions which can generate `IRF_4`, `All_IRF`, `ACF` and `ModelName` on call\n",
    "\n",
    "**Todo:**\n",
    "* Iterate and call the `unconditionalVariance` function on many models\n",
    "* Similarly iterate upon and call your `unconditionalVariance` on many user rules (using `coefficients`)"
   ]
  },
  {
   "cell_type": "code",
   "execution_count": null,
   "metadata": {},
   "outputs": [],
   "source": []
  }
 ],
 "metadata": {
  "kernelspec": {
   "display_name": "Python 3",
   "language": "python",
   "name": "python3"
  },
  "language_info": {
   "codemirror_mode": {
    "name": "ipython",
    "version": 3
   },
   "file_extension": ".py",
   "mimetype": "text/x-python",
   "name": "python",
   "nbconvert_exporter": "python",
   "pygments_lexer": "ipython3",
   "version": "3.6.4"
  }
 },
 "nbformat": 4,
 "nbformat_minor": 2
}
